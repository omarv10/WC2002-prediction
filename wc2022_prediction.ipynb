{
  "nbformat": 4,
  "nbformat_minor": 0,
  "metadata": {
    "colab": {
      "provenance": [],
      "mount_file_id": "1CgQhEuJLcmWMSCdQP843iDVdTF_Ua2SA",
      "authorship_tag": "ABX9TyM4avtyqSWECVsitwKZ5Nh5",
      "include_colab_link": true
    },
    "kernelspec": {
      "name": "python3",
      "display_name": "Python 3"
    },
    "language_info": {
      "name": "python"
    }
  },
  "cells": [
    {
      "cell_type": "markdown",
      "metadata": {
        "id": "view-in-github",
        "colab_type": "text"
      },
      "source": [
        "<a href=\"https://colab.research.google.com/github/omarv10/WC2022-prediction/blob/main/wc2022_prediction.ipynb\" target=\"_parent\"><img src=\"https://colab.research.google.com/assets/colab-badge.svg\" alt=\"Open In Colab\"/></a>"
      ]
    },
    {
      "cell_type": "markdown",
      "source": [
        "Importing Needed Libraries"
      ],
      "metadata": {
        "id": "BDPdg5uz06xK"
      }
    },
    {
      "cell_type": "code",
      "execution_count": null,
      "metadata": {
        "id": "JE-WDO3yw6wO"
      },
      "outputs": [],
      "source": [
        "import pandas as pd\n",
        "import matplotlib.pyplot as plt\n",
        "import numpy as np\n",
        "from sklearn import tree\n",
        "from sklearn.tree import DecisionTreeRegressor\n",
        "from sklearn.neighbors import KNeighborsClassifier\n",
        "\n",
        "from sklearn.model_selection import train_test_split\n",
        "from sklearn.metrics import mean_squared_error\n",
        "from sklearn.metrics import confusion_matrix, ConfusionMatrixDisplay\n",
        "from sklearn.metrics import accuracy_score\n",
        "from sklearn.model_selection import cross_val_score\n",
        "from sklearn.metrics import classification_report\n",
        "\n"
      ]
    },
    {
      "cell_type": "code",
      "source": [
        "df = pd.read_csv(\"Updated_International_matches - Sheet1.csv\", sep=\",\")\n",
        "print(df)\n"
      ],
      "metadata": {
        "id": "M_ytgdN_xBxh"
      },
      "execution_count": null,
      "outputs": []
    },
    {
      "cell_type": "code",
      "source": [
        "df.info()"
      ],
      "metadata": {
        "id": "BNrTe6wM-39O"
      },
      "execution_count": null,
      "outputs": []
    },
    {
      "cell_type": "code",
      "source": [
        "df.describe()"
      ],
      "metadata": {
        "id": "k2zhwoZU1OkT",
        "colab": {
          "base_uri": "https://localhost:8080/",
          "height": 364
        },
        "outputId": "a12ee673-8e88-4812-ba8c-4a3f95e371a9"
      },
      "execution_count": null,
      "outputs": [
        {
          "output_type": "execute_result",
          "data": {
            "text/plain": [
              "       home_team_fifa_rank  away_team_fifa_rank  home_team_total_fifa_points  \\\n",
              "count         11010.000000         11010.000000                 11010.000000   \n",
              "mean             82.585831            86.044959                   702.641871   \n",
              "std              55.026463            55.096184                   527.724498   \n",
              "min               1.000000             1.000000                     0.000000   \n",
              "25%              35.000000            39.000000                   240.000000   \n",
              "50%              77.000000            80.000000                   615.000000   \n",
              "75%             124.000000           127.000000                  1171.750000   \n",
              "max             211.000000           211.000000                  2164.000000   \n",
              "\n",
              "       away_team_total_fifa_points  home_team_score  away_team_score  \\\n",
              "count                 11010.000000     11010.000000     11010.000000   \n",
              "mean                    685.373751         1.548865         1.058492   \n",
              "std                     519.747550         1.553544         1.249955   \n",
              "min                       0.000000         0.000000         0.000000   \n",
              "25%                     228.250000         0.000000         0.000000   \n",
              "50%                     594.000000         1.000000         1.000000   \n",
              "75%                    1148.000000         2.000000         2.000000   \n",
              "max                    2164.000000        17.000000        14.000000   \n",
              "\n",
              "       home_team_goalkeeper_score  away_team_goalkeeper_score  \\\n",
              "count                 6220.000000                 5973.000000   \n",
              "mean                    74.696945                   73.999833   \n",
              "std                      7.640265                    7.690917   \n",
              "min                     50.000000                   50.000000   \n",
              "25%                     70.000000                   69.000000   \n",
              "50%                     75.000000                   74.000000   \n",
              "75%                     80.000000                   80.000000   \n",
              "max                     92.000000                   92.000000   \n",
              "\n",
              "       home_team_mean_defense_score  home_team_mean_offense_score  \\\n",
              "count                   5743.000000                   6074.000000   \n",
              "mean                      74.661153                     75.469295   \n",
              "std                        5.690164                      6.101904   \n",
              "min                       56.500000                     53.300000   \n",
              "25%                       70.800000                     71.300000   \n",
              "50%                       74.800000                     75.000000   \n",
              "75%                       78.200000                     79.700000   \n",
              "max                       87.800000                     90.700000   \n",
              "\n",
              "       home_team_mean_midfield_score  away_team_mean_defense_score  \\\n",
              "count                    6020.000000                   5510.000000   \n",
              "mean                       75.844817                     74.176642   \n",
              "std                         5.783749                      5.546385   \n",
              "min                        57.500000                     56.500000   \n",
              "25%                        72.500000                     70.500000   \n",
              "50%                        76.200000                     74.200000   \n",
              "75%                        79.500000                     77.800000   \n",
              "max                        88.800000                     87.800000   \n",
              "\n",
              "       away_team_mean_offense_score  away_team_mean_midfield_score  \n",
              "count                   5899.000000                    5886.000000  \n",
              "mean                      74.942668                      75.104060  \n",
              "std                        5.992396                       5.831601  \n",
              "min                       53.300000                      57.500000  \n",
              "25%                       71.000000                      71.800000  \n",
              "50%                       74.700000                      75.500000  \n",
              "75%                       78.700000                      78.800000  \n",
              "max                       90.700000                      88.800000  "
            ],
            "text/html": [
              "\n",
              "  <div id=\"df-d5688567-c75c-4c01-a07c-3900aac4a6d2\">\n",
              "    <div class=\"colab-df-container\">\n",
              "      <div>\n",
              "<style scoped>\n",
              "    .dataframe tbody tr th:only-of-type {\n",
              "        vertical-align: middle;\n",
              "    }\n",
              "\n",
              "    .dataframe tbody tr th {\n",
              "        vertical-align: top;\n",
              "    }\n",
              "\n",
              "    .dataframe thead th {\n",
              "        text-align: right;\n",
              "    }\n",
              "</style>\n",
              "<table border=\"1\" class=\"dataframe\">\n",
              "  <thead>\n",
              "    <tr style=\"text-align: right;\">\n",
              "      <th></th>\n",
              "      <th>home_team_fifa_rank</th>\n",
              "      <th>away_team_fifa_rank</th>\n",
              "      <th>home_team_total_fifa_points</th>\n",
              "      <th>away_team_total_fifa_points</th>\n",
              "      <th>home_team_score</th>\n",
              "      <th>away_team_score</th>\n",
              "      <th>home_team_goalkeeper_score</th>\n",
              "      <th>away_team_goalkeeper_score</th>\n",
              "      <th>home_team_mean_defense_score</th>\n",
              "      <th>home_team_mean_offense_score</th>\n",
              "      <th>home_team_mean_midfield_score</th>\n",
              "      <th>away_team_mean_defense_score</th>\n",
              "      <th>away_team_mean_offense_score</th>\n",
              "      <th>away_team_mean_midfield_score</th>\n",
              "    </tr>\n",
              "  </thead>\n",
              "  <tbody>\n",
              "    <tr>\n",
              "      <th>count</th>\n",
              "      <td>11010.000000</td>\n",
              "      <td>11010.000000</td>\n",
              "      <td>11010.000000</td>\n",
              "      <td>11010.000000</td>\n",
              "      <td>11010.000000</td>\n",
              "      <td>11010.000000</td>\n",
              "      <td>6220.000000</td>\n",
              "      <td>5973.000000</td>\n",
              "      <td>5743.000000</td>\n",
              "      <td>6074.000000</td>\n",
              "      <td>6020.000000</td>\n",
              "      <td>5510.000000</td>\n",
              "      <td>5899.000000</td>\n",
              "      <td>5886.000000</td>\n",
              "    </tr>\n",
              "    <tr>\n",
              "      <th>mean</th>\n",
              "      <td>82.585831</td>\n",
              "      <td>86.044959</td>\n",
              "      <td>702.641871</td>\n",
              "      <td>685.373751</td>\n",
              "      <td>1.548865</td>\n",
              "      <td>1.058492</td>\n",
              "      <td>74.696945</td>\n",
              "      <td>73.999833</td>\n",
              "      <td>74.661153</td>\n",
              "      <td>75.469295</td>\n",
              "      <td>75.844817</td>\n",
              "      <td>74.176642</td>\n",
              "      <td>74.942668</td>\n",
              "      <td>75.104060</td>\n",
              "    </tr>\n",
              "    <tr>\n",
              "      <th>std</th>\n",
              "      <td>55.026463</td>\n",
              "      <td>55.096184</td>\n",
              "      <td>527.724498</td>\n",
              "      <td>519.747550</td>\n",
              "      <td>1.553544</td>\n",
              "      <td>1.249955</td>\n",
              "      <td>7.640265</td>\n",
              "      <td>7.690917</td>\n",
              "      <td>5.690164</td>\n",
              "      <td>6.101904</td>\n",
              "      <td>5.783749</td>\n",
              "      <td>5.546385</td>\n",
              "      <td>5.992396</td>\n",
              "      <td>5.831601</td>\n",
              "    </tr>\n",
              "    <tr>\n",
              "      <th>min</th>\n",
              "      <td>1.000000</td>\n",
              "      <td>1.000000</td>\n",
              "      <td>0.000000</td>\n",
              "      <td>0.000000</td>\n",
              "      <td>0.000000</td>\n",
              "      <td>0.000000</td>\n",
              "      <td>50.000000</td>\n",
              "      <td>50.000000</td>\n",
              "      <td>56.500000</td>\n",
              "      <td>53.300000</td>\n",
              "      <td>57.500000</td>\n",
              "      <td>56.500000</td>\n",
              "      <td>53.300000</td>\n",
              "      <td>57.500000</td>\n",
              "    </tr>\n",
              "    <tr>\n",
              "      <th>25%</th>\n",
              "      <td>35.000000</td>\n",
              "      <td>39.000000</td>\n",
              "      <td>240.000000</td>\n",
              "      <td>228.250000</td>\n",
              "      <td>0.000000</td>\n",
              "      <td>0.000000</td>\n",
              "      <td>70.000000</td>\n",
              "      <td>69.000000</td>\n",
              "      <td>70.800000</td>\n",
              "      <td>71.300000</td>\n",
              "      <td>72.500000</td>\n",
              "      <td>70.500000</td>\n",
              "      <td>71.000000</td>\n",
              "      <td>71.800000</td>\n",
              "    </tr>\n",
              "    <tr>\n",
              "      <th>50%</th>\n",
              "      <td>77.000000</td>\n",
              "      <td>80.000000</td>\n",
              "      <td>615.000000</td>\n",
              "      <td>594.000000</td>\n",
              "      <td>1.000000</td>\n",
              "      <td>1.000000</td>\n",
              "      <td>75.000000</td>\n",
              "      <td>74.000000</td>\n",
              "      <td>74.800000</td>\n",
              "      <td>75.000000</td>\n",
              "      <td>76.200000</td>\n",
              "      <td>74.200000</td>\n",
              "      <td>74.700000</td>\n",
              "      <td>75.500000</td>\n",
              "    </tr>\n",
              "    <tr>\n",
              "      <th>75%</th>\n",
              "      <td>124.000000</td>\n",
              "      <td>127.000000</td>\n",
              "      <td>1171.750000</td>\n",
              "      <td>1148.000000</td>\n",
              "      <td>2.000000</td>\n",
              "      <td>2.000000</td>\n",
              "      <td>80.000000</td>\n",
              "      <td>80.000000</td>\n",
              "      <td>78.200000</td>\n",
              "      <td>79.700000</td>\n",
              "      <td>79.500000</td>\n",
              "      <td>77.800000</td>\n",
              "      <td>78.700000</td>\n",
              "      <td>78.800000</td>\n",
              "    </tr>\n",
              "    <tr>\n",
              "      <th>max</th>\n",
              "      <td>211.000000</td>\n",
              "      <td>211.000000</td>\n",
              "      <td>2164.000000</td>\n",
              "      <td>2164.000000</td>\n",
              "      <td>17.000000</td>\n",
              "      <td>14.000000</td>\n",
              "      <td>92.000000</td>\n",
              "      <td>92.000000</td>\n",
              "      <td>87.800000</td>\n",
              "      <td>90.700000</td>\n",
              "      <td>88.800000</td>\n",
              "      <td>87.800000</td>\n",
              "      <td>90.700000</td>\n",
              "      <td>88.800000</td>\n",
              "    </tr>\n",
              "  </tbody>\n",
              "</table>\n",
              "</div>\n",
              "      <button class=\"colab-df-convert\" onclick=\"convertToInteractive('df-d5688567-c75c-4c01-a07c-3900aac4a6d2')\"\n",
              "              title=\"Convert this dataframe to an interactive table.\"\n",
              "              style=\"display:none;\">\n",
              "        \n",
              "  <svg xmlns=\"http://www.w3.org/2000/svg\" height=\"24px\"viewBox=\"0 0 24 24\"\n",
              "       width=\"24px\">\n",
              "    <path d=\"M0 0h24v24H0V0z\" fill=\"none\"/>\n",
              "    <path d=\"M18.56 5.44l.94 2.06.94-2.06 2.06-.94-2.06-.94-.94-2.06-.94 2.06-2.06.94zm-11 1L8.5 8.5l.94-2.06 2.06-.94-2.06-.94L8.5 2.5l-.94 2.06-2.06.94zm10 10l.94 2.06.94-2.06 2.06-.94-2.06-.94-.94-2.06-.94 2.06-2.06.94z\"/><path d=\"M17.41 7.96l-1.37-1.37c-.4-.4-.92-.59-1.43-.59-.52 0-1.04.2-1.43.59L10.3 9.45l-7.72 7.72c-.78.78-.78 2.05 0 2.83L4 21.41c.39.39.9.59 1.41.59.51 0 1.02-.2 1.41-.59l7.78-7.78 2.81-2.81c.8-.78.8-2.07 0-2.86zM5.41 20L4 18.59l7.72-7.72 1.47 1.35L5.41 20z\"/>\n",
              "  </svg>\n",
              "      </button>\n",
              "      \n",
              "  <style>\n",
              "    .colab-df-container {\n",
              "      display:flex;\n",
              "      flex-wrap:wrap;\n",
              "      gap: 12px;\n",
              "    }\n",
              "\n",
              "    .colab-df-convert {\n",
              "      background-color: #E8F0FE;\n",
              "      border: none;\n",
              "      border-radius: 50%;\n",
              "      cursor: pointer;\n",
              "      display: none;\n",
              "      fill: #1967D2;\n",
              "      height: 32px;\n",
              "      padding: 0 0 0 0;\n",
              "      width: 32px;\n",
              "    }\n",
              "\n",
              "    .colab-df-convert:hover {\n",
              "      background-color: #E2EBFA;\n",
              "      box-shadow: 0px 1px 2px rgba(60, 64, 67, 0.3), 0px 1px 3px 1px rgba(60, 64, 67, 0.15);\n",
              "      fill: #174EA6;\n",
              "    }\n",
              "\n",
              "    [theme=dark] .colab-df-convert {\n",
              "      background-color: #3B4455;\n",
              "      fill: #D2E3FC;\n",
              "    }\n",
              "\n",
              "    [theme=dark] .colab-df-convert:hover {\n",
              "      background-color: #434B5C;\n",
              "      box-shadow: 0px 1px 3px 1px rgba(0, 0, 0, 0.15);\n",
              "      filter: drop-shadow(0px 1px 2px rgba(0, 0, 0, 0.3));\n",
              "      fill: #FFFFFF;\n",
              "    }\n",
              "  </style>\n",
              "\n",
              "      <script>\n",
              "        const buttonEl =\n",
              "          document.querySelector('#df-d5688567-c75c-4c01-a07c-3900aac4a6d2 button.colab-df-convert');\n",
              "        buttonEl.style.display =\n",
              "          google.colab.kernel.accessAllowed ? 'block' : 'none';\n",
              "\n",
              "        async function convertToInteractive(key) {\n",
              "          const element = document.querySelector('#df-d5688567-c75c-4c01-a07c-3900aac4a6d2');\n",
              "          const dataTable =\n",
              "            await google.colab.kernel.invokeFunction('convertToInteractive',\n",
              "                                                     [key], {});\n",
              "          if (!dataTable) return;\n",
              "\n",
              "          const docLinkHtml = 'Like what you see? Visit the ' +\n",
              "            '<a target=\"_blank\" href=https://colab.research.google.com/notebooks/data_table.ipynb>data table notebook</a>'\n",
              "            + ' to learn more about interactive tables.';\n",
              "          element.innerHTML = '';\n",
              "          dataTable['output_type'] = 'display_data';\n",
              "          await google.colab.output.renderOutput(dataTable, element);\n",
              "          const docLink = document.createElement('div');\n",
              "          docLink.innerHTML = docLinkHtml;\n",
              "          element.appendChild(docLink);\n",
              "        }\n",
              "      </script>\n",
              "    </div>\n",
              "  </div>\n",
              "  "
            ]
          },
          "metadata": {},
          "execution_count": 4
        }
      ]
    },
    {
      "cell_type": "code",
      "source": [
        "df.head()"
      ],
      "metadata": {
        "colab": {
          "base_uri": "https://localhost:8080/",
          "height": 386
        },
        "id": "RN4Ke7G27l8Z",
        "outputId": "505268be-7231-4ace-d01c-f39429774b2d"
      },
      "execution_count": null,
      "outputs": [
        {
          "output_type": "execute_result",
          "data": {
            "text/plain": [
              "         date home_team   away_team home_team_continent away_team_continent  \\\n",
              "0  2010-01-02   IR Iran   Korea DPR                Asia                Asia   \n",
              "1  2010-01-02     Qatar        Mali                Asia              Africa   \n",
              "2  2010-01-02     Syria    Zimbabwe                Asia              Africa   \n",
              "3  2010-01-02     Yemen  Tajikistan                Asia                Asia   \n",
              "4  2010-01-03    Angola      Gambia              Africa              Africa   \n",
              "\n",
              "   home_team_fifa_rank  away_team_fifa_rank  home_team_total_fifa_points  \\\n",
              "0                   64                   86                            0   \n",
              "1                   86                   47                            0   \n",
              "2                   91                  109                            0   \n",
              "3                  130                  165                            0   \n",
              "4                   95                  116                            0   \n",
              "\n",
              "   away_team_total_fifa_points  home_team_score  ...  home_team_result  \\\n",
              "0                            0                1  ...               Win   \n",
              "1                            0                0  ...              Draw   \n",
              "2                            0                6  ...               Win   \n",
              "3                            0                0  ...              Lose   \n",
              "4                            0                1  ...              Draw   \n",
              "\n",
              "  home_team_goalkeeper_score away_team_goalkeeper_score  \\\n",
              "0                        NaN                        NaN   \n",
              "1                        NaN                       53.0   \n",
              "2                        NaN                        NaN   \n",
              "3                        NaN                        NaN   \n",
              "4                       70.0                       67.0   \n",
              "\n",
              "  home_team_mean_defense_score  home_team_mean_offense_score  \\\n",
              "0                          NaN                           NaN   \n",
              "1                          NaN                           NaN   \n",
              "2                          NaN                           NaN   \n",
              "3                          NaN                           NaN   \n",
              "4                          NaN                          73.7   \n",
              "\n",
              "  home_team_mean_midfield_score away_team_mean_defense_score  \\\n",
              "0                           NaN                          NaN   \n",
              "1                           NaN                         73.0   \n",
              "2                           NaN                         62.2   \n",
              "3                           NaN                          NaN   \n",
              "4                          63.2                          NaN   \n",
              "\n",
              "   away_team_mean_offense_score  away_team_mean_midfield_score  match_result  \n",
              "0                           NaN                            NaN             2  \n",
              "1                          74.7                           77.8             1  \n",
              "2                          71.3                           60.0             2  \n",
              "3                           NaN                            NaN             0  \n",
              "4                          66.3                           64.5             1  \n",
              "\n",
              "[5 rows x 26 columns]"
            ],
            "text/html": [
              "\n",
              "  <div id=\"df-b5563034-ea53-4228-ad83-5dd73082bd61\">\n",
              "    <div class=\"colab-df-container\">\n",
              "      <div>\n",
              "<style scoped>\n",
              "    .dataframe tbody tr th:only-of-type {\n",
              "        vertical-align: middle;\n",
              "    }\n",
              "\n",
              "    .dataframe tbody tr th {\n",
              "        vertical-align: top;\n",
              "    }\n",
              "\n",
              "    .dataframe thead th {\n",
              "        text-align: right;\n",
              "    }\n",
              "</style>\n",
              "<table border=\"1\" class=\"dataframe\">\n",
              "  <thead>\n",
              "    <tr style=\"text-align: right;\">\n",
              "      <th></th>\n",
              "      <th>date</th>\n",
              "      <th>home_team</th>\n",
              "      <th>away_team</th>\n",
              "      <th>home_team_continent</th>\n",
              "      <th>away_team_continent</th>\n",
              "      <th>home_team_fifa_rank</th>\n",
              "      <th>away_team_fifa_rank</th>\n",
              "      <th>home_team_total_fifa_points</th>\n",
              "      <th>away_team_total_fifa_points</th>\n",
              "      <th>home_team_score</th>\n",
              "      <th>...</th>\n",
              "      <th>home_team_result</th>\n",
              "      <th>home_team_goalkeeper_score</th>\n",
              "      <th>away_team_goalkeeper_score</th>\n",
              "      <th>home_team_mean_defense_score</th>\n",
              "      <th>home_team_mean_offense_score</th>\n",
              "      <th>home_team_mean_midfield_score</th>\n",
              "      <th>away_team_mean_defense_score</th>\n",
              "      <th>away_team_mean_offense_score</th>\n",
              "      <th>away_team_mean_midfield_score</th>\n",
              "      <th>match_result</th>\n",
              "    </tr>\n",
              "  </thead>\n",
              "  <tbody>\n",
              "    <tr>\n",
              "      <th>0</th>\n",
              "      <td>2010-01-02</td>\n",
              "      <td>IR Iran</td>\n",
              "      <td>Korea DPR</td>\n",
              "      <td>Asia</td>\n",
              "      <td>Asia</td>\n",
              "      <td>64</td>\n",
              "      <td>86</td>\n",
              "      <td>0</td>\n",
              "      <td>0</td>\n",
              "      <td>1</td>\n",
              "      <td>...</td>\n",
              "      <td>Win</td>\n",
              "      <td>NaN</td>\n",
              "      <td>NaN</td>\n",
              "      <td>NaN</td>\n",
              "      <td>NaN</td>\n",
              "      <td>NaN</td>\n",
              "      <td>NaN</td>\n",
              "      <td>NaN</td>\n",
              "      <td>NaN</td>\n",
              "      <td>2</td>\n",
              "    </tr>\n",
              "    <tr>\n",
              "      <th>1</th>\n",
              "      <td>2010-01-02</td>\n",
              "      <td>Qatar</td>\n",
              "      <td>Mali</td>\n",
              "      <td>Asia</td>\n",
              "      <td>Africa</td>\n",
              "      <td>86</td>\n",
              "      <td>47</td>\n",
              "      <td>0</td>\n",
              "      <td>0</td>\n",
              "      <td>0</td>\n",
              "      <td>...</td>\n",
              "      <td>Draw</td>\n",
              "      <td>NaN</td>\n",
              "      <td>53.0</td>\n",
              "      <td>NaN</td>\n",
              "      <td>NaN</td>\n",
              "      <td>NaN</td>\n",
              "      <td>73.0</td>\n",
              "      <td>74.7</td>\n",
              "      <td>77.8</td>\n",
              "      <td>1</td>\n",
              "    </tr>\n",
              "    <tr>\n",
              "      <th>2</th>\n",
              "      <td>2010-01-02</td>\n",
              "      <td>Syria</td>\n",
              "      <td>Zimbabwe</td>\n",
              "      <td>Asia</td>\n",
              "      <td>Africa</td>\n",
              "      <td>91</td>\n",
              "      <td>109</td>\n",
              "      <td>0</td>\n",
              "      <td>0</td>\n",
              "      <td>6</td>\n",
              "      <td>...</td>\n",
              "      <td>Win</td>\n",
              "      <td>NaN</td>\n",
              "      <td>NaN</td>\n",
              "      <td>NaN</td>\n",
              "      <td>NaN</td>\n",
              "      <td>NaN</td>\n",
              "      <td>62.2</td>\n",
              "      <td>71.3</td>\n",
              "      <td>60.0</td>\n",
              "      <td>2</td>\n",
              "    </tr>\n",
              "    <tr>\n",
              "      <th>3</th>\n",
              "      <td>2010-01-02</td>\n",
              "      <td>Yemen</td>\n",
              "      <td>Tajikistan</td>\n",
              "      <td>Asia</td>\n",
              "      <td>Asia</td>\n",
              "      <td>130</td>\n",
              "      <td>165</td>\n",
              "      <td>0</td>\n",
              "      <td>0</td>\n",
              "      <td>0</td>\n",
              "      <td>...</td>\n",
              "      <td>Lose</td>\n",
              "      <td>NaN</td>\n",
              "      <td>NaN</td>\n",
              "      <td>NaN</td>\n",
              "      <td>NaN</td>\n",
              "      <td>NaN</td>\n",
              "      <td>NaN</td>\n",
              "      <td>NaN</td>\n",
              "      <td>NaN</td>\n",
              "      <td>0</td>\n",
              "    </tr>\n",
              "    <tr>\n",
              "      <th>4</th>\n",
              "      <td>2010-01-03</td>\n",
              "      <td>Angola</td>\n",
              "      <td>Gambia</td>\n",
              "      <td>Africa</td>\n",
              "      <td>Africa</td>\n",
              "      <td>95</td>\n",
              "      <td>116</td>\n",
              "      <td>0</td>\n",
              "      <td>0</td>\n",
              "      <td>1</td>\n",
              "      <td>...</td>\n",
              "      <td>Draw</td>\n",
              "      <td>70.0</td>\n",
              "      <td>67.0</td>\n",
              "      <td>NaN</td>\n",
              "      <td>73.7</td>\n",
              "      <td>63.2</td>\n",
              "      <td>NaN</td>\n",
              "      <td>66.3</td>\n",
              "      <td>64.5</td>\n",
              "      <td>1</td>\n",
              "    </tr>\n",
              "  </tbody>\n",
              "</table>\n",
              "<p>5 rows × 26 columns</p>\n",
              "</div>\n",
              "      <button class=\"colab-df-convert\" onclick=\"convertToInteractive('df-b5563034-ea53-4228-ad83-5dd73082bd61')\"\n",
              "              title=\"Convert this dataframe to an interactive table.\"\n",
              "              style=\"display:none;\">\n",
              "        \n",
              "  <svg xmlns=\"http://www.w3.org/2000/svg\" height=\"24px\"viewBox=\"0 0 24 24\"\n",
              "       width=\"24px\">\n",
              "    <path d=\"M0 0h24v24H0V0z\" fill=\"none\"/>\n",
              "    <path d=\"M18.56 5.44l.94 2.06.94-2.06 2.06-.94-2.06-.94-.94-2.06-.94 2.06-2.06.94zm-11 1L8.5 8.5l.94-2.06 2.06-.94-2.06-.94L8.5 2.5l-.94 2.06-2.06.94zm10 10l.94 2.06.94-2.06 2.06-.94-2.06-.94-.94-2.06-.94 2.06-2.06.94z\"/><path d=\"M17.41 7.96l-1.37-1.37c-.4-.4-.92-.59-1.43-.59-.52 0-1.04.2-1.43.59L10.3 9.45l-7.72 7.72c-.78.78-.78 2.05 0 2.83L4 21.41c.39.39.9.59 1.41.59.51 0 1.02-.2 1.41-.59l7.78-7.78 2.81-2.81c.8-.78.8-2.07 0-2.86zM5.41 20L4 18.59l7.72-7.72 1.47 1.35L5.41 20z\"/>\n",
              "  </svg>\n",
              "      </button>\n",
              "      \n",
              "  <style>\n",
              "    .colab-df-container {\n",
              "      display:flex;\n",
              "      flex-wrap:wrap;\n",
              "      gap: 12px;\n",
              "    }\n",
              "\n",
              "    .colab-df-convert {\n",
              "      background-color: #E8F0FE;\n",
              "      border: none;\n",
              "      border-radius: 50%;\n",
              "      cursor: pointer;\n",
              "      display: none;\n",
              "      fill: #1967D2;\n",
              "      height: 32px;\n",
              "      padding: 0 0 0 0;\n",
              "      width: 32px;\n",
              "    }\n",
              "\n",
              "    .colab-df-convert:hover {\n",
              "      background-color: #E2EBFA;\n",
              "      box-shadow: 0px 1px 2px rgba(60, 64, 67, 0.3), 0px 1px 3px 1px rgba(60, 64, 67, 0.15);\n",
              "      fill: #174EA6;\n",
              "    }\n",
              "\n",
              "    [theme=dark] .colab-df-convert {\n",
              "      background-color: #3B4455;\n",
              "      fill: #D2E3FC;\n",
              "    }\n",
              "\n",
              "    [theme=dark] .colab-df-convert:hover {\n",
              "      background-color: #434B5C;\n",
              "      box-shadow: 0px 1px 3px 1px rgba(0, 0, 0, 0.15);\n",
              "      filter: drop-shadow(0px 1px 2px rgba(0, 0, 0, 0.3));\n",
              "      fill: #FFFFFF;\n",
              "    }\n",
              "  </style>\n",
              "\n",
              "      <script>\n",
              "        const buttonEl =\n",
              "          document.querySelector('#df-b5563034-ea53-4228-ad83-5dd73082bd61 button.colab-df-convert');\n",
              "        buttonEl.style.display =\n",
              "          google.colab.kernel.accessAllowed ? 'block' : 'none';\n",
              "\n",
              "        async function convertToInteractive(key) {\n",
              "          const element = document.querySelector('#df-b5563034-ea53-4228-ad83-5dd73082bd61');\n",
              "          const dataTable =\n",
              "            await google.colab.kernel.invokeFunction('convertToInteractive',\n",
              "                                                     [key], {});\n",
              "          if (!dataTable) return;\n",
              "\n",
              "          const docLinkHtml = 'Like what you see? Visit the ' +\n",
              "            '<a target=\"_blank\" href=https://colab.research.google.com/notebooks/data_table.ipynb>data table notebook</a>'\n",
              "            + ' to learn more about interactive tables.';\n",
              "          element.innerHTML = '';\n",
              "          dataTable['output_type'] = 'display_data';\n",
              "          await google.colab.output.renderOutput(dataTable, element);\n",
              "          const docLink = document.createElement('div');\n",
              "          docLink.innerHTML = docLinkHtml;\n",
              "          element.appendChild(docLink);\n",
              "        }\n",
              "      </script>\n",
              "    </div>\n",
              "  </div>\n",
              "  "
            ]
          },
          "metadata": {},
          "execution_count": 11
        }
      ]
    },
    {
      "cell_type": "code",
      "source": [
        "df.columns"
      ],
      "metadata": {
        "colab": {
          "base_uri": "https://localhost:8080/"
        },
        "id": "smWIBaV8-zHs",
        "outputId": "014c03d6-e804-4bea-9859-6dc10d73bd69"
      },
      "execution_count": null,
      "outputs": [
        {
          "output_type": "execute_result",
          "data": {
            "text/plain": [
              "Index(['date', 'home_team', 'away_team', 'home_team_continent',\n",
              "       'away_team_continent', 'home_team_fifa_rank', 'away_team_fifa_rank',\n",
              "       'home_team_total_fifa_points', 'away_team_total_fifa_points',\n",
              "       'home_team_score', 'away_team_score', 'tournament', 'city', 'country',\n",
              "       'neutral_location', 'shoot_out', 'home_team_result',\n",
              "       'home_team_goalkeeper_score', 'away_team_goalkeeper_score',\n",
              "       'home_team_mean_defense_score', 'home_team_mean_offense_score',\n",
              "       'home_team_mean_midfield_score', 'away_team_mean_defense_score',\n",
              "       'away_team_mean_offense_score', 'away_team_mean_midfield_score'],\n",
              "      dtype='object')"
            ]
          },
          "metadata": {},
          "execution_count": 5
        }
      ]
    },
    {
      "cell_type": "markdown",
      "source": [
        "Reshaping Data to place in my x and y values"
      ],
      "metadata": {
        "id": "fwc6JAS8C3Be"
      }
    },
    {
      "cell_type": "code",
      "source": [
        "reshaped_data = df[['home_team', 'away_team','home_team_fifa_rank', 'away_team_fifa_rank','home_team_score', 'away_team_score','home_team_result'\n",
        "                    ]]\n",
        "print(reshaped_data)\n",
        "\n"
      ],
      "metadata": {
        "id": "TkVRzryu7lEZ"
      },
      "execution_count": null,
      "outputs": []
    },
    {
      "cell_type": "code",
      "source": [
        "reshaped_data.head()"
      ],
      "metadata": {
        "colab": {
          "base_uri": "https://localhost:8080/",
          "height": 206
        },
        "id": "CR2pkCcb-MDO",
        "outputId": "1c5f5cd0-2dbe-42ec-ba42-d3c54d003bb8"
      },
      "execution_count": null,
      "outputs": [
        {
          "output_type": "execute_result",
          "data": {
            "text/plain": [
              "  home_team   away_team  home_team_fifa_rank  away_team_fifa_rank  \\\n",
              "0   IR Iran   Korea DPR                   64                   86   \n",
              "1     Qatar        Mali                   86                   47   \n",
              "2     Syria    Zimbabwe                   91                  109   \n",
              "3     Yemen  Tajikistan                  130                  165   \n",
              "4    Angola      Gambia                   95                  116   \n",
              "\n",
              "   home_team_score  away_team_score home_team_result  \n",
              "0                1                0              Win  \n",
              "1                0                0             Draw  \n",
              "2                6                0              Win  \n",
              "3                0                1             Lose  \n",
              "4                1                1             Draw  "
            ],
            "text/html": [
              "\n",
              "  <div id=\"df-7375985c-1fd6-4f00-afe0-e88bd56997c3\">\n",
              "    <div class=\"colab-df-container\">\n",
              "      <div>\n",
              "<style scoped>\n",
              "    .dataframe tbody tr th:only-of-type {\n",
              "        vertical-align: middle;\n",
              "    }\n",
              "\n",
              "    .dataframe tbody tr th {\n",
              "        vertical-align: top;\n",
              "    }\n",
              "\n",
              "    .dataframe thead th {\n",
              "        text-align: right;\n",
              "    }\n",
              "</style>\n",
              "<table border=\"1\" class=\"dataframe\">\n",
              "  <thead>\n",
              "    <tr style=\"text-align: right;\">\n",
              "      <th></th>\n",
              "      <th>home_team</th>\n",
              "      <th>away_team</th>\n",
              "      <th>home_team_fifa_rank</th>\n",
              "      <th>away_team_fifa_rank</th>\n",
              "      <th>home_team_score</th>\n",
              "      <th>away_team_score</th>\n",
              "      <th>home_team_result</th>\n",
              "    </tr>\n",
              "  </thead>\n",
              "  <tbody>\n",
              "    <tr>\n",
              "      <th>0</th>\n",
              "      <td>IR Iran</td>\n",
              "      <td>Korea DPR</td>\n",
              "      <td>64</td>\n",
              "      <td>86</td>\n",
              "      <td>1</td>\n",
              "      <td>0</td>\n",
              "      <td>Win</td>\n",
              "    </tr>\n",
              "    <tr>\n",
              "      <th>1</th>\n",
              "      <td>Qatar</td>\n",
              "      <td>Mali</td>\n",
              "      <td>86</td>\n",
              "      <td>47</td>\n",
              "      <td>0</td>\n",
              "      <td>0</td>\n",
              "      <td>Draw</td>\n",
              "    </tr>\n",
              "    <tr>\n",
              "      <th>2</th>\n",
              "      <td>Syria</td>\n",
              "      <td>Zimbabwe</td>\n",
              "      <td>91</td>\n",
              "      <td>109</td>\n",
              "      <td>6</td>\n",
              "      <td>0</td>\n",
              "      <td>Win</td>\n",
              "    </tr>\n",
              "    <tr>\n",
              "      <th>3</th>\n",
              "      <td>Yemen</td>\n",
              "      <td>Tajikistan</td>\n",
              "      <td>130</td>\n",
              "      <td>165</td>\n",
              "      <td>0</td>\n",
              "      <td>1</td>\n",
              "      <td>Lose</td>\n",
              "    </tr>\n",
              "    <tr>\n",
              "      <th>4</th>\n",
              "      <td>Angola</td>\n",
              "      <td>Gambia</td>\n",
              "      <td>95</td>\n",
              "      <td>116</td>\n",
              "      <td>1</td>\n",
              "      <td>1</td>\n",
              "      <td>Draw</td>\n",
              "    </tr>\n",
              "  </tbody>\n",
              "</table>\n",
              "</div>\n",
              "      <button class=\"colab-df-convert\" onclick=\"convertToInteractive('df-7375985c-1fd6-4f00-afe0-e88bd56997c3')\"\n",
              "              title=\"Convert this dataframe to an interactive table.\"\n",
              "              style=\"display:none;\">\n",
              "        \n",
              "  <svg xmlns=\"http://www.w3.org/2000/svg\" height=\"24px\"viewBox=\"0 0 24 24\"\n",
              "       width=\"24px\">\n",
              "    <path d=\"M0 0h24v24H0V0z\" fill=\"none\"/>\n",
              "    <path d=\"M18.56 5.44l.94 2.06.94-2.06 2.06-.94-2.06-.94-.94-2.06-.94 2.06-2.06.94zm-11 1L8.5 8.5l.94-2.06 2.06-.94-2.06-.94L8.5 2.5l-.94 2.06-2.06.94zm10 10l.94 2.06.94-2.06 2.06-.94-2.06-.94-.94-2.06-.94 2.06-2.06.94z\"/><path d=\"M17.41 7.96l-1.37-1.37c-.4-.4-.92-.59-1.43-.59-.52 0-1.04.2-1.43.59L10.3 9.45l-7.72 7.72c-.78.78-.78 2.05 0 2.83L4 21.41c.39.39.9.59 1.41.59.51 0 1.02-.2 1.41-.59l7.78-7.78 2.81-2.81c.8-.78.8-2.07 0-2.86zM5.41 20L4 18.59l7.72-7.72 1.47 1.35L5.41 20z\"/>\n",
              "  </svg>\n",
              "      </button>\n",
              "      \n",
              "  <style>\n",
              "    .colab-df-container {\n",
              "      display:flex;\n",
              "      flex-wrap:wrap;\n",
              "      gap: 12px;\n",
              "    }\n",
              "\n",
              "    .colab-df-convert {\n",
              "      background-color: #E8F0FE;\n",
              "      border: none;\n",
              "      border-radius: 50%;\n",
              "      cursor: pointer;\n",
              "      display: none;\n",
              "      fill: #1967D2;\n",
              "      height: 32px;\n",
              "      padding: 0 0 0 0;\n",
              "      width: 32px;\n",
              "    }\n",
              "\n",
              "    .colab-df-convert:hover {\n",
              "      background-color: #E2EBFA;\n",
              "      box-shadow: 0px 1px 2px rgba(60, 64, 67, 0.3), 0px 1px 3px 1px rgba(60, 64, 67, 0.15);\n",
              "      fill: #174EA6;\n",
              "    }\n",
              "\n",
              "    [theme=dark] .colab-df-convert {\n",
              "      background-color: #3B4455;\n",
              "      fill: #D2E3FC;\n",
              "    }\n",
              "\n",
              "    [theme=dark] .colab-df-convert:hover {\n",
              "      background-color: #434B5C;\n",
              "      box-shadow: 0px 1px 3px 1px rgba(0, 0, 0, 0.15);\n",
              "      filter: drop-shadow(0px 1px 2px rgba(0, 0, 0, 0.3));\n",
              "      fill: #FFFFFF;\n",
              "    }\n",
              "  </style>\n",
              "\n",
              "      <script>\n",
              "        const buttonEl =\n",
              "          document.querySelector('#df-7375985c-1fd6-4f00-afe0-e88bd56997c3 button.colab-df-convert');\n",
              "        buttonEl.style.display =\n",
              "          google.colab.kernel.accessAllowed ? 'block' : 'none';\n",
              "\n",
              "        async function convertToInteractive(key) {\n",
              "          const element = document.querySelector('#df-7375985c-1fd6-4f00-afe0-e88bd56997c3');\n",
              "          const dataTable =\n",
              "            await google.colab.kernel.invokeFunction('convertToInteractive',\n",
              "                                                     [key], {});\n",
              "          if (!dataTable) return;\n",
              "\n",
              "          const docLinkHtml = 'Like what you see? Visit the ' +\n",
              "            '<a target=\"_blank\" href=https://colab.research.google.com/notebooks/data_table.ipynb>data table notebook</a>'\n",
              "            + ' to learn more about interactive tables.';\n",
              "          element.innerHTML = '';\n",
              "          dataTable['output_type'] = 'display_data';\n",
              "          await google.colab.output.renderOutput(dataTable, element);\n",
              "          const docLink = document.createElement('div');\n",
              "          docLink.innerHTML = docLinkHtml;\n",
              "          element.appendChild(docLink);\n",
              "        }\n",
              "      </script>\n",
              "    </div>\n",
              "  </div>\n",
              "  "
            ]
          },
          "metadata": {},
          "execution_count": 167
        }
      ]
    },
    {
      "cell_type": "markdown",
      "source": [
        "Turning Nominal attributes to numeric attributes"
      ],
      "metadata": {
        "id": "J9--stfcg0lg"
      }
    },
    {
      "cell_type": "code",
      "source": [
        "countries = ['IR Iran'=89, 'Qatar'=154, 'Syria'=183, 'Yemen'=208, 'Angola'=5, 'Egypt'=60,\n",
        "       'Tanzania'=187, 'Ghana'=76, 'Bahrain'=15, 'Benin'=21, 'China PR'=41, 'Gabon'=72,\n",
        "       'Indonesia'=92, 'Kuwait'=104, 'Lebanon'=108, 'Singapore'=167, 'Thailand'=188,\n",
        "       'United Arab Emirates'=201, 'Rwanda'=158, 'Kenya'=100, 'Tunisia'=193, 'Zambia'=209,\n",
        "       \"Côte d'Ivoire\"=54, 'Malawi'=117, 'Mozambique'=130, 'Cameroon'=35, 'Mali'=120,\n",
        "       'Nigeria'=139, 'Vietnam'=206, 'Finland'=70, 'Burkina Faso'=31, 'Chile'=40, 'Oman'=143,\n",
        "       'Latvia'=107, 'Poland'=151, 'USA'=198, 'Argentina'=8, 'South Africa'=172, 'Algeria'=2,\n",
        "       'Jamaica'=96, 'Japan'=97, 'Korea Republic'=102, 'Hong Kong'=87, 'Sri Lanka'=175,\n",
        "       'Tajikistan'=186, 'Korea DPR'=101, 'Bangladesh'=16, 'Kyrgyz Republic'=105,\n",
        "       'Turkmenistan'=195, 'Mexico'=124, 'Jordan'=98, 'Malaysia'=118,\n",
        "       'Republic of Ireland'=155, 'Albania'=1, 'Armenia'=9, 'Australia'=11,\n",
        "       'Austria'=12, 'Belgium'=19, 'Bosnia and Herzegovina'=25, 'Cyprus'=52,\n",
        "       'El Salvador'=61, 'England'=62, 'France'=71, 'Georgia'=74, 'Germany'=75, 'Greece'=78,\n",
        "       'Hungary'=88, 'Italy'=95, 'Kazakhstan'=99, 'Libya'=111, 'Luxembourg'=114,\n",
        "       'North Macedonia'=140, 'Malta'=121, 'Netherlands'=134, 'Portugal'=152, 'Romania'=156,\n",
        "       'Scotland'=162, 'Slovakia'=168, 'Slovenia'=169, 'Switzerland'=182, 'Turkey'=194,\n",
        "       'Uzbekistan'=203, 'Venezuela'=205, 'Wales'=207, 'Zimbabwe'=210, 'Niger'=138, 'Iceland'=90,\n",
        "       'Namibia'=132, 'Paraguay'=148, 'Honduras'=86, 'Aruba'=10, 'Congo DR'=46, 'Estonia'=65,\n",
        "       'Croatia'=49, 'Montenegro'=127, 'Ukraine'=200, 'Azerbaijan'=13,\n",
        "       'Northern Ireland'=141, 'Uruguay'=202, 'Belarus'=18, 'Denmark'=55, 'Moldova'=125,\n",
        "       'New Zealand'=136, 'Norway'=142, 'Spain'=174, 'Sweden'=181, 'Serbia'=164, 'Sudan'=179,\n",
        "       'Brazil'=27, 'Lithuania'=113, 'Chad'=39, 'Botswana'=26, 'Togo'=190, 'Bolivia'=24,\n",
        "       'Czech Republic'=53, 'Mauritania'=122, 'Morocco'=129, 'Panama'=146, 'Russia'=157,\n",
        "       'Saudi Arabia'=161, 'Senegal'=163, 'Trinidad and Tobago'=192, 'Uganda'=199,\n",
        "       'Ethiopia'=67, 'St. Kitts and Nevis'=176, 'Madagascar'=116, 'Israel'=94,\n",
        "       'Andorra'=4, 'Faroe Islands'=68, 'Liechtenstein'=112, 'San Marino'=160,\n",
        "       'Canada'=36, 'Cabo Verde'=33, 'Guatemala'=81, 'Guinea-Bissau'=83, 'Mauritius'=123,\n",
        "       'Liberia'=110, 'Eswatini'=66, 'Bulgaria'=30, 'India'=91, 'Belize'=20, 'St. Lucia'=177,\n",
        "       'Anguilla'=6, 'Antigua and Barbuda'=7, 'Iraq'=93, 'Barbados'=17, 'Guyana'=84,\n",
        "       'New Caledonia'=135, 'Palestine'=145, 'Puerto Rico'=153, 'Cayman Islands'=37,\n",
        "       'Colombia'=43, 'Montserrat'=128, 'Peru'=149, 'St. Vincent and the Grenadines'=178,\n",
        "       'Burundi'=32, 'Comoros'=44, 'Central African Republic'=38, 'Congo'=45,\n",
        "       'Guinea'=82, 'Sierra Leone'=166, 'Costa Rica'=48, 'Ecuador'=59,\n",
        "       'Equatorial Guinea'=63, 'Philippines'=150, 'Dominican Republic'=58,\n",
        "       'British Virgin Islands'=28, 'Suriname'=180, 'Timor-Leste'=189, 'Grenada'=79,\n",
        "       'Laos'=106, 'Cambodia'=34, 'Haiti'=85, 'Cuba'=50, 'Dominica'=57, 'Myanmar'=131,\n",
        "       'Nicaragua'=137, 'Vanuatu'=204, 'Macau'=115, 'Mongolia'=126, 'Nepal'=133, 'Maldives'=119,\n",
        "       'Bhutan'=23, 'Pakistan'=144, 'Afghanistan'=0, 'Tahiti'=185,\n",
        "       'Turks and Caicos Islands'=196, 'US Virgin Islands'=197, 'Solomon Islands'=170,\n",
        "       'Bahamas'=14, 'Fiji'=69, 'Gambia'=73, 'Eritrea'=64, 'Lesotho'=109,\n",
        "       'Papua New Guinea'=147, 'American Samoa'=3, 'Cook Islands'=47, 'Guam'=80,\n",
        "       'Curaçao'=51, 'Bermuda'=22, 'Djibouti'=56, 'São Tomé and Príncipe'=184,\n",
        "       'Seychelles'=165, 'Somalia'=171, 'Samoa'=159, 'Tonga'=191, 'Brunei Darussalam'=29,\n",
        "       'South Sudan'=173, 'Kosovo'=103, 'Chinese Taipei'=42, 'Gibraltar'=77]"
      ],
      "metadata": {
        "id": "FniNQ5wLaSDp"
      },
      "execution_count": null,
      "outputs": []
    },
    {
      "cell_type": "code",
      "source": [
        "from sklearn.preprocessing import LabelEncoder\n",
        "le = LabelEncoder()\n",
        "reshaped_data['new_home_team'] = le.fit_transform(reshaped_data.home_team)\n",
        "reshaped_data['new_away_team'] = le.fit_transform(reshaped_data.away_team)\n",
        "reshaped_data['new_home_team_result'] = le.fit_transform(reshaped_data.home_team_result)\n",
        "reshaped_data.head()\n",
        "\n"
      ],
      "metadata": {
        "id": "0hf1K7i3iDq8",
        "colab": {
          "base_uri": "https://localhost:8080/",
          "height": 519
        },
        "outputId": "5ce15c0b-6b88-42ff-d010-5d3d8a6da138"
      },
      "execution_count": null,
      "outputs": [
        {
          "output_type": "stream",
          "name": "stderr",
          "text": [
            "/usr/local/lib/python3.7/dist-packages/ipykernel_launcher.py:3: SettingWithCopyWarning: \n",
            "A value is trying to be set on a copy of a slice from a DataFrame.\n",
            "Try using .loc[row_indexer,col_indexer] = value instead\n",
            "\n",
            "See the caveats in the documentation: https://pandas.pydata.org/pandas-docs/stable/user_guide/indexing.html#returning-a-view-versus-a-copy\n",
            "  This is separate from the ipykernel package so we can avoid doing imports until\n",
            "/usr/local/lib/python3.7/dist-packages/ipykernel_launcher.py:4: SettingWithCopyWarning: \n",
            "A value is trying to be set on a copy of a slice from a DataFrame.\n",
            "Try using .loc[row_indexer,col_indexer] = value instead\n",
            "\n",
            "See the caveats in the documentation: https://pandas.pydata.org/pandas-docs/stable/user_guide/indexing.html#returning-a-view-versus-a-copy\n",
            "  after removing the cwd from sys.path.\n",
            "/usr/local/lib/python3.7/dist-packages/ipykernel_launcher.py:5: SettingWithCopyWarning: \n",
            "A value is trying to be set on a copy of a slice from a DataFrame.\n",
            "Try using .loc[row_indexer,col_indexer] = value instead\n",
            "\n",
            "See the caveats in the documentation: https://pandas.pydata.org/pandas-docs/stable/user_guide/indexing.html#returning-a-view-versus-a-copy\n",
            "  \"\"\"\n"
          ]
        },
        {
          "output_type": "execute_result",
          "data": {
            "text/plain": [
              "  home_team   away_team  home_team_fifa_rank  away_team_fifa_rank  \\\n",
              "0   IR Iran   Korea DPR                   64                   86   \n",
              "1     Qatar        Mali                   86                   47   \n",
              "2     Syria    Zimbabwe                   91                  109   \n",
              "3     Yemen  Tajikistan                  130                  165   \n",
              "4    Angola      Gambia                   95                  116   \n",
              "\n",
              "   home_team_score  away_team_score home_team_result  new_home_team  \\\n",
              "0                1                0              Win             89   \n",
              "1                0                0             Draw            154   \n",
              "2                6                0              Win            183   \n",
              "3                0                1             Lose            208   \n",
              "4                1                1             Draw              5   \n",
              "\n",
              "   new_away_team  new_home_team_result  \n",
              "0            101                     2  \n",
              "1            120                     0  \n",
              "2            210                     2  \n",
              "3            186                     1  \n",
              "4             73                     0  "
            ],
            "text/html": [
              "\n",
              "  <div id=\"df-8eee7e5e-0512-43e7-8642-b344c2d474c7\">\n",
              "    <div class=\"colab-df-container\">\n",
              "      <div>\n",
              "<style scoped>\n",
              "    .dataframe tbody tr th:only-of-type {\n",
              "        vertical-align: middle;\n",
              "    }\n",
              "\n",
              "    .dataframe tbody tr th {\n",
              "        vertical-align: top;\n",
              "    }\n",
              "\n",
              "    .dataframe thead th {\n",
              "        text-align: right;\n",
              "    }\n",
              "</style>\n",
              "<table border=\"1\" class=\"dataframe\">\n",
              "  <thead>\n",
              "    <tr style=\"text-align: right;\">\n",
              "      <th></th>\n",
              "      <th>home_team</th>\n",
              "      <th>away_team</th>\n",
              "      <th>home_team_fifa_rank</th>\n",
              "      <th>away_team_fifa_rank</th>\n",
              "      <th>home_team_score</th>\n",
              "      <th>away_team_score</th>\n",
              "      <th>home_team_result</th>\n",
              "      <th>new_home_team</th>\n",
              "      <th>new_away_team</th>\n",
              "      <th>new_home_team_result</th>\n",
              "    </tr>\n",
              "  </thead>\n",
              "  <tbody>\n",
              "    <tr>\n",
              "      <th>0</th>\n",
              "      <td>IR Iran</td>\n",
              "      <td>Korea DPR</td>\n",
              "      <td>64</td>\n",
              "      <td>86</td>\n",
              "      <td>1</td>\n",
              "      <td>0</td>\n",
              "      <td>Win</td>\n",
              "      <td>89</td>\n",
              "      <td>101</td>\n",
              "      <td>2</td>\n",
              "    </tr>\n",
              "    <tr>\n",
              "      <th>1</th>\n",
              "      <td>Qatar</td>\n",
              "      <td>Mali</td>\n",
              "      <td>86</td>\n",
              "      <td>47</td>\n",
              "      <td>0</td>\n",
              "      <td>0</td>\n",
              "      <td>Draw</td>\n",
              "      <td>154</td>\n",
              "      <td>120</td>\n",
              "      <td>0</td>\n",
              "    </tr>\n",
              "    <tr>\n",
              "      <th>2</th>\n",
              "      <td>Syria</td>\n",
              "      <td>Zimbabwe</td>\n",
              "      <td>91</td>\n",
              "      <td>109</td>\n",
              "      <td>6</td>\n",
              "      <td>0</td>\n",
              "      <td>Win</td>\n",
              "      <td>183</td>\n",
              "      <td>210</td>\n",
              "      <td>2</td>\n",
              "    </tr>\n",
              "    <tr>\n",
              "      <th>3</th>\n",
              "      <td>Yemen</td>\n",
              "      <td>Tajikistan</td>\n",
              "      <td>130</td>\n",
              "      <td>165</td>\n",
              "      <td>0</td>\n",
              "      <td>1</td>\n",
              "      <td>Lose</td>\n",
              "      <td>208</td>\n",
              "      <td>186</td>\n",
              "      <td>1</td>\n",
              "    </tr>\n",
              "    <tr>\n",
              "      <th>4</th>\n",
              "      <td>Angola</td>\n",
              "      <td>Gambia</td>\n",
              "      <td>95</td>\n",
              "      <td>116</td>\n",
              "      <td>1</td>\n",
              "      <td>1</td>\n",
              "      <td>Draw</td>\n",
              "      <td>5</td>\n",
              "      <td>73</td>\n",
              "      <td>0</td>\n",
              "    </tr>\n",
              "  </tbody>\n",
              "</table>\n",
              "</div>\n",
              "      <button class=\"colab-df-convert\" onclick=\"convertToInteractive('df-8eee7e5e-0512-43e7-8642-b344c2d474c7')\"\n",
              "              title=\"Convert this dataframe to an interactive table.\"\n",
              "              style=\"display:none;\">\n",
              "        \n",
              "  <svg xmlns=\"http://www.w3.org/2000/svg\" height=\"24px\"viewBox=\"0 0 24 24\"\n",
              "       width=\"24px\">\n",
              "    <path d=\"M0 0h24v24H0V0z\" fill=\"none\"/>\n",
              "    <path d=\"M18.56 5.44l.94 2.06.94-2.06 2.06-.94-2.06-.94-.94-2.06-.94 2.06-2.06.94zm-11 1L8.5 8.5l.94-2.06 2.06-.94-2.06-.94L8.5 2.5l-.94 2.06-2.06.94zm10 10l.94 2.06.94-2.06 2.06-.94-2.06-.94-.94-2.06-.94 2.06-2.06.94z\"/><path d=\"M17.41 7.96l-1.37-1.37c-.4-.4-.92-.59-1.43-.59-.52 0-1.04.2-1.43.59L10.3 9.45l-7.72 7.72c-.78.78-.78 2.05 0 2.83L4 21.41c.39.39.9.59 1.41.59.51 0 1.02-.2 1.41-.59l7.78-7.78 2.81-2.81c.8-.78.8-2.07 0-2.86zM5.41 20L4 18.59l7.72-7.72 1.47 1.35L5.41 20z\"/>\n",
              "  </svg>\n",
              "      </button>\n",
              "      \n",
              "  <style>\n",
              "    .colab-df-container {\n",
              "      display:flex;\n",
              "      flex-wrap:wrap;\n",
              "      gap: 12px;\n",
              "    }\n",
              "\n",
              "    .colab-df-convert {\n",
              "      background-color: #E8F0FE;\n",
              "      border: none;\n",
              "      border-radius: 50%;\n",
              "      cursor: pointer;\n",
              "      display: none;\n",
              "      fill: #1967D2;\n",
              "      height: 32px;\n",
              "      padding: 0 0 0 0;\n",
              "      width: 32px;\n",
              "    }\n",
              "\n",
              "    .colab-df-convert:hover {\n",
              "      background-color: #E2EBFA;\n",
              "      box-shadow: 0px 1px 2px rgba(60, 64, 67, 0.3), 0px 1px 3px 1px rgba(60, 64, 67, 0.15);\n",
              "      fill: #174EA6;\n",
              "    }\n",
              "\n",
              "    [theme=dark] .colab-df-convert {\n",
              "      background-color: #3B4455;\n",
              "      fill: #D2E3FC;\n",
              "    }\n",
              "\n",
              "    [theme=dark] .colab-df-convert:hover {\n",
              "      background-color: #434B5C;\n",
              "      box-shadow: 0px 1px 3px 1px rgba(0, 0, 0, 0.15);\n",
              "      filter: drop-shadow(0px 1px 2px rgba(0, 0, 0, 0.3));\n",
              "      fill: #FFFFFF;\n",
              "    }\n",
              "  </style>\n",
              "\n",
              "      <script>\n",
              "        const buttonEl =\n",
              "          document.querySelector('#df-8eee7e5e-0512-43e7-8642-b344c2d474c7 button.colab-df-convert');\n",
              "        buttonEl.style.display =\n",
              "          google.colab.kernel.accessAllowed ? 'block' : 'none';\n",
              "\n",
              "        async function convertToInteractive(key) {\n",
              "          const element = document.querySelector('#df-8eee7e5e-0512-43e7-8642-b344c2d474c7');\n",
              "          const dataTable =\n",
              "            await google.colab.kernel.invokeFunction('convertToInteractive',\n",
              "                                                     [key], {});\n",
              "          if (!dataTable) return;\n",
              "\n",
              "          const docLinkHtml = 'Like what you see? Visit the ' +\n",
              "            '<a target=\"_blank\" href=https://colab.research.google.com/notebooks/data_table.ipynb>data table notebook</a>'\n",
              "            + ' to learn more about interactive tables.';\n",
              "          element.innerHTML = '';\n",
              "          dataTable['output_type'] = 'display_data';\n",
              "          await google.colab.output.renderOutput(dataTable, element);\n",
              "          const docLink = document.createElement('div');\n",
              "          docLink.innerHTML = docLinkHtml;\n",
              "          element.appendChild(docLink);\n",
              "        }\n",
              "      </script>\n",
              "    </div>\n",
              "  </div>\n",
              "  "
            ]
          },
          "metadata": {},
          "execution_count": 7
        }
      ]
    },
    {
      "cell_type": "code",
      "source": [
        "reshaped_data = reshaped_data.reindex(columns=['new_home_team', 'new_away_team','home_team_fifa_rank', 'away_team_fifa_rank','home_team_score', \n",
        "                    'away_team_score','new_home_team_result'])\n",
        "reshaped_data.head()"
      ],
      "metadata": {
        "colab": {
          "base_uri": "https://localhost:8080/",
          "height": 206
        },
        "id": "xT99ImqOAYf7",
        "outputId": "53c13bf2-b178-4d9e-cce9-ce50e59f2c8f"
      },
      "execution_count": null,
      "outputs": [
        {
          "output_type": "execute_result",
          "data": {
            "text/plain": [
              "   new_home_team  new_away_team  home_team_fifa_rank  away_team_fifa_rank  \\\n",
              "0             89            101                   64                   86   \n",
              "1            154            120                   86                   47   \n",
              "2            183            210                   91                  109   \n",
              "3            208            186                  130                  165   \n",
              "4              5             73                   95                  116   \n",
              "\n",
              "   home_team_score  away_team_score  new_home_team_result  \n",
              "0                1                0                     2  \n",
              "1                0                0                     0  \n",
              "2                6                0                     2  \n",
              "3                0                1                     1  \n",
              "4                1                1                     0  "
            ],
            "text/html": [
              "\n",
              "  <div id=\"df-4044628e-72ea-4bbc-bb21-72119952ddda\">\n",
              "    <div class=\"colab-df-container\">\n",
              "      <div>\n",
              "<style scoped>\n",
              "    .dataframe tbody tr th:only-of-type {\n",
              "        vertical-align: middle;\n",
              "    }\n",
              "\n",
              "    .dataframe tbody tr th {\n",
              "        vertical-align: top;\n",
              "    }\n",
              "\n",
              "    .dataframe thead th {\n",
              "        text-align: right;\n",
              "    }\n",
              "</style>\n",
              "<table border=\"1\" class=\"dataframe\">\n",
              "  <thead>\n",
              "    <tr style=\"text-align: right;\">\n",
              "      <th></th>\n",
              "      <th>new_home_team</th>\n",
              "      <th>new_away_team</th>\n",
              "      <th>home_team_fifa_rank</th>\n",
              "      <th>away_team_fifa_rank</th>\n",
              "      <th>home_team_score</th>\n",
              "      <th>away_team_score</th>\n",
              "      <th>new_home_team_result</th>\n",
              "    </tr>\n",
              "  </thead>\n",
              "  <tbody>\n",
              "    <tr>\n",
              "      <th>0</th>\n",
              "      <td>89</td>\n",
              "      <td>101</td>\n",
              "      <td>64</td>\n",
              "      <td>86</td>\n",
              "      <td>1</td>\n",
              "      <td>0</td>\n",
              "      <td>2</td>\n",
              "    </tr>\n",
              "    <tr>\n",
              "      <th>1</th>\n",
              "      <td>154</td>\n",
              "      <td>120</td>\n",
              "      <td>86</td>\n",
              "      <td>47</td>\n",
              "      <td>0</td>\n",
              "      <td>0</td>\n",
              "      <td>0</td>\n",
              "    </tr>\n",
              "    <tr>\n",
              "      <th>2</th>\n",
              "      <td>183</td>\n",
              "      <td>210</td>\n",
              "      <td>91</td>\n",
              "      <td>109</td>\n",
              "      <td>6</td>\n",
              "      <td>0</td>\n",
              "      <td>2</td>\n",
              "    </tr>\n",
              "    <tr>\n",
              "      <th>3</th>\n",
              "      <td>208</td>\n",
              "      <td>186</td>\n",
              "      <td>130</td>\n",
              "      <td>165</td>\n",
              "      <td>0</td>\n",
              "      <td>1</td>\n",
              "      <td>1</td>\n",
              "    </tr>\n",
              "    <tr>\n",
              "      <th>4</th>\n",
              "      <td>5</td>\n",
              "      <td>73</td>\n",
              "      <td>95</td>\n",
              "      <td>116</td>\n",
              "      <td>1</td>\n",
              "      <td>1</td>\n",
              "      <td>0</td>\n",
              "    </tr>\n",
              "  </tbody>\n",
              "</table>\n",
              "</div>\n",
              "      <button class=\"colab-df-convert\" onclick=\"convertToInteractive('df-4044628e-72ea-4bbc-bb21-72119952ddda')\"\n",
              "              title=\"Convert this dataframe to an interactive table.\"\n",
              "              style=\"display:none;\">\n",
              "        \n",
              "  <svg xmlns=\"http://www.w3.org/2000/svg\" height=\"24px\"viewBox=\"0 0 24 24\"\n",
              "       width=\"24px\">\n",
              "    <path d=\"M0 0h24v24H0V0z\" fill=\"none\"/>\n",
              "    <path d=\"M18.56 5.44l.94 2.06.94-2.06 2.06-.94-2.06-.94-.94-2.06-.94 2.06-2.06.94zm-11 1L8.5 8.5l.94-2.06 2.06-.94-2.06-.94L8.5 2.5l-.94 2.06-2.06.94zm10 10l.94 2.06.94-2.06 2.06-.94-2.06-.94-.94-2.06-.94 2.06-2.06.94z\"/><path d=\"M17.41 7.96l-1.37-1.37c-.4-.4-.92-.59-1.43-.59-.52 0-1.04.2-1.43.59L10.3 9.45l-7.72 7.72c-.78.78-.78 2.05 0 2.83L4 21.41c.39.39.9.59 1.41.59.51 0 1.02-.2 1.41-.59l7.78-7.78 2.81-2.81c.8-.78.8-2.07 0-2.86zM5.41 20L4 18.59l7.72-7.72 1.47 1.35L5.41 20z\"/>\n",
              "  </svg>\n",
              "      </button>\n",
              "      \n",
              "  <style>\n",
              "    .colab-df-container {\n",
              "      display:flex;\n",
              "      flex-wrap:wrap;\n",
              "      gap: 12px;\n",
              "    }\n",
              "\n",
              "    .colab-df-convert {\n",
              "      background-color: #E8F0FE;\n",
              "      border: none;\n",
              "      border-radius: 50%;\n",
              "      cursor: pointer;\n",
              "      display: none;\n",
              "      fill: #1967D2;\n",
              "      height: 32px;\n",
              "      padding: 0 0 0 0;\n",
              "      width: 32px;\n",
              "    }\n",
              "\n",
              "    .colab-df-convert:hover {\n",
              "      background-color: #E2EBFA;\n",
              "      box-shadow: 0px 1px 2px rgba(60, 64, 67, 0.3), 0px 1px 3px 1px rgba(60, 64, 67, 0.15);\n",
              "      fill: #174EA6;\n",
              "    }\n",
              "\n",
              "    [theme=dark] .colab-df-convert {\n",
              "      background-color: #3B4455;\n",
              "      fill: #D2E3FC;\n",
              "    }\n",
              "\n",
              "    [theme=dark] .colab-df-convert:hover {\n",
              "      background-color: #434B5C;\n",
              "      box-shadow: 0px 1px 3px 1px rgba(0, 0, 0, 0.15);\n",
              "      filter: drop-shadow(0px 1px 2px rgba(0, 0, 0, 0.3));\n",
              "      fill: #FFFFFF;\n",
              "    }\n",
              "  </style>\n",
              "\n",
              "      <script>\n",
              "        const buttonEl =\n",
              "          document.querySelector('#df-4044628e-72ea-4bbc-bb21-72119952ddda button.colab-df-convert');\n",
              "        buttonEl.style.display =\n",
              "          google.colab.kernel.accessAllowed ? 'block' : 'none';\n",
              "\n",
              "        async function convertToInteractive(key) {\n",
              "          const element = document.querySelector('#df-4044628e-72ea-4bbc-bb21-72119952ddda');\n",
              "          const dataTable =\n",
              "            await google.colab.kernel.invokeFunction('convertToInteractive',\n",
              "                                                     [key], {});\n",
              "          if (!dataTable) return;\n",
              "\n",
              "          const docLinkHtml = 'Like what you see? Visit the ' +\n",
              "            '<a target=\"_blank\" href=https://colab.research.google.com/notebooks/data_table.ipynb>data table notebook</a>'\n",
              "            + ' to learn more about interactive tables.';\n",
              "          element.innerHTML = '';\n",
              "          dataTable['output_type'] = 'display_data';\n",
              "          await google.colab.output.renderOutput(dataTable, element);\n",
              "          const docLink = document.createElement('div');\n",
              "          docLink.innerHTML = docLinkHtml;\n",
              "          element.appendChild(docLink);\n",
              "        }\n",
              "      </script>\n",
              "    </div>\n",
              "  </div>\n",
              "  "
            ]
          },
          "metadata": {},
          "execution_count": 8
        }
      ]
    },
    {
      "cell_type": "markdown",
      "source": [
        "Getting x and y values"
      ],
      "metadata": {
        "id": "knmrgDx0hBgQ"
      }
    },
    {
      "cell_type": "code",
      "source": [
        "x = reshaped_data.drop(['new_home_team_result'], axis=1)\n",
        "\n",
        "y = reshaped_data['new_home_team_result']\n",
        "  "
      ],
      "metadata": {
        "id": "7GPLNxrsxGHp"
      },
      "execution_count": null,
      "outputs": []
    },
    {
      "cell_type": "code",
      "source": [
        "x.isnull().sum()"
      ],
      "metadata": {
        "colab": {
          "base_uri": "https://localhost:8080/"
        },
        "id": "lcTRvGOiTnoB",
        "outputId": "6b3bb3da-c43c-4096-bb40-03c1ab8ab8c4"
      },
      "execution_count": null,
      "outputs": [
        {
          "output_type": "execute_result",
          "data": {
            "text/plain": [
              "new_home_team          0\n",
              "new_away_team          0\n",
              "home_team_fifa_rank    0\n",
              "away_team_fifa_rank    0\n",
              "home_team_score        0\n",
              "away_team_score        0\n",
              "dtype: int64"
            ]
          },
          "metadata": {},
          "execution_count": 10
        }
      ]
    },
    {
      "cell_type": "code",
      "source": [
        "x.dropna(inplace=True)\n",
        "x.head()"
      ],
      "metadata": {
        "colab": {
          "base_uri": "https://localhost:8080/",
          "height": 206
        },
        "id": "wFZH54cPT35m",
        "outputId": "73cdccff-2924-49c9-bcf2-c7068bca29a5"
      },
      "execution_count": null,
      "outputs": [
        {
          "output_type": "execute_result",
          "data": {
            "text/plain": [
              "   new_home_team  new_away_team  home_team_fifa_rank  away_team_fifa_rank  \\\n",
              "0             89            101                   64                   86   \n",
              "1            154            120                   86                   47   \n",
              "2            183            210                   91                  109   \n",
              "3            208            186                  130                  165   \n",
              "4              5             73                   95                  116   \n",
              "\n",
              "   home_team_score  away_team_score  \n",
              "0                1                0  \n",
              "1                0                0  \n",
              "2                6                0  \n",
              "3                0                1  \n",
              "4                1                1  "
            ],
            "text/html": [
              "\n",
              "  <div id=\"df-164ff5c0-7870-49ca-a576-365fddac40ee\">\n",
              "    <div class=\"colab-df-container\">\n",
              "      <div>\n",
              "<style scoped>\n",
              "    .dataframe tbody tr th:only-of-type {\n",
              "        vertical-align: middle;\n",
              "    }\n",
              "\n",
              "    .dataframe tbody tr th {\n",
              "        vertical-align: top;\n",
              "    }\n",
              "\n",
              "    .dataframe thead th {\n",
              "        text-align: right;\n",
              "    }\n",
              "</style>\n",
              "<table border=\"1\" class=\"dataframe\">\n",
              "  <thead>\n",
              "    <tr style=\"text-align: right;\">\n",
              "      <th></th>\n",
              "      <th>new_home_team</th>\n",
              "      <th>new_away_team</th>\n",
              "      <th>home_team_fifa_rank</th>\n",
              "      <th>away_team_fifa_rank</th>\n",
              "      <th>home_team_score</th>\n",
              "      <th>away_team_score</th>\n",
              "    </tr>\n",
              "  </thead>\n",
              "  <tbody>\n",
              "    <tr>\n",
              "      <th>0</th>\n",
              "      <td>89</td>\n",
              "      <td>101</td>\n",
              "      <td>64</td>\n",
              "      <td>86</td>\n",
              "      <td>1</td>\n",
              "      <td>0</td>\n",
              "    </tr>\n",
              "    <tr>\n",
              "      <th>1</th>\n",
              "      <td>154</td>\n",
              "      <td>120</td>\n",
              "      <td>86</td>\n",
              "      <td>47</td>\n",
              "      <td>0</td>\n",
              "      <td>0</td>\n",
              "    </tr>\n",
              "    <tr>\n",
              "      <th>2</th>\n",
              "      <td>183</td>\n",
              "      <td>210</td>\n",
              "      <td>91</td>\n",
              "      <td>109</td>\n",
              "      <td>6</td>\n",
              "      <td>0</td>\n",
              "    </tr>\n",
              "    <tr>\n",
              "      <th>3</th>\n",
              "      <td>208</td>\n",
              "      <td>186</td>\n",
              "      <td>130</td>\n",
              "      <td>165</td>\n",
              "      <td>0</td>\n",
              "      <td>1</td>\n",
              "    </tr>\n",
              "    <tr>\n",
              "      <th>4</th>\n",
              "      <td>5</td>\n",
              "      <td>73</td>\n",
              "      <td>95</td>\n",
              "      <td>116</td>\n",
              "      <td>1</td>\n",
              "      <td>1</td>\n",
              "    </tr>\n",
              "  </tbody>\n",
              "</table>\n",
              "</div>\n",
              "      <button class=\"colab-df-convert\" onclick=\"convertToInteractive('df-164ff5c0-7870-49ca-a576-365fddac40ee')\"\n",
              "              title=\"Convert this dataframe to an interactive table.\"\n",
              "              style=\"display:none;\">\n",
              "        \n",
              "  <svg xmlns=\"http://www.w3.org/2000/svg\" height=\"24px\"viewBox=\"0 0 24 24\"\n",
              "       width=\"24px\">\n",
              "    <path d=\"M0 0h24v24H0V0z\" fill=\"none\"/>\n",
              "    <path d=\"M18.56 5.44l.94 2.06.94-2.06 2.06-.94-2.06-.94-.94-2.06-.94 2.06-2.06.94zm-11 1L8.5 8.5l.94-2.06 2.06-.94-2.06-.94L8.5 2.5l-.94 2.06-2.06.94zm10 10l.94 2.06.94-2.06 2.06-.94-2.06-.94-.94-2.06-.94 2.06-2.06.94z\"/><path d=\"M17.41 7.96l-1.37-1.37c-.4-.4-.92-.59-1.43-.59-.52 0-1.04.2-1.43.59L10.3 9.45l-7.72 7.72c-.78.78-.78 2.05 0 2.83L4 21.41c.39.39.9.59 1.41.59.51 0 1.02-.2 1.41-.59l7.78-7.78 2.81-2.81c.8-.78.8-2.07 0-2.86zM5.41 20L4 18.59l7.72-7.72 1.47 1.35L5.41 20z\"/>\n",
              "  </svg>\n",
              "      </button>\n",
              "      \n",
              "  <style>\n",
              "    .colab-df-container {\n",
              "      display:flex;\n",
              "      flex-wrap:wrap;\n",
              "      gap: 12px;\n",
              "    }\n",
              "\n",
              "    .colab-df-convert {\n",
              "      background-color: #E8F0FE;\n",
              "      border: none;\n",
              "      border-radius: 50%;\n",
              "      cursor: pointer;\n",
              "      display: none;\n",
              "      fill: #1967D2;\n",
              "      height: 32px;\n",
              "      padding: 0 0 0 0;\n",
              "      width: 32px;\n",
              "    }\n",
              "\n",
              "    .colab-df-convert:hover {\n",
              "      background-color: #E2EBFA;\n",
              "      box-shadow: 0px 1px 2px rgba(60, 64, 67, 0.3), 0px 1px 3px 1px rgba(60, 64, 67, 0.15);\n",
              "      fill: #174EA6;\n",
              "    }\n",
              "\n",
              "    [theme=dark] .colab-df-convert {\n",
              "      background-color: #3B4455;\n",
              "      fill: #D2E3FC;\n",
              "    }\n",
              "\n",
              "    [theme=dark] .colab-df-convert:hover {\n",
              "      background-color: #434B5C;\n",
              "      box-shadow: 0px 1px 3px 1px rgba(0, 0, 0, 0.15);\n",
              "      filter: drop-shadow(0px 1px 2px rgba(0, 0, 0, 0.3));\n",
              "      fill: #FFFFFF;\n",
              "    }\n",
              "  </style>\n",
              "\n",
              "      <script>\n",
              "        const buttonEl =\n",
              "          document.querySelector('#df-164ff5c0-7870-49ca-a576-365fddac40ee button.colab-df-convert');\n",
              "        buttonEl.style.display =\n",
              "          google.colab.kernel.accessAllowed ? 'block' : 'none';\n",
              "\n",
              "        async function convertToInteractive(key) {\n",
              "          const element = document.querySelector('#df-164ff5c0-7870-49ca-a576-365fddac40ee');\n",
              "          const dataTable =\n",
              "            await google.colab.kernel.invokeFunction('convertToInteractive',\n",
              "                                                     [key], {});\n",
              "          if (!dataTable) return;\n",
              "\n",
              "          const docLinkHtml = 'Like what you see? Visit the ' +\n",
              "            '<a target=\"_blank\" href=https://colab.research.google.com/notebooks/data_table.ipynb>data table notebook</a>'\n",
              "            + ' to learn more about interactive tables.';\n",
              "          element.innerHTML = '';\n",
              "          dataTable['output_type'] = 'display_data';\n",
              "          await google.colab.output.renderOutput(dataTable, element);\n",
              "          const docLink = document.createElement('div');\n",
              "          docLink.innerHTML = docLinkHtml;\n",
              "          element.appendChild(docLink);\n",
              "        }\n",
              "      </script>\n",
              "    </div>\n",
              "  </div>\n",
              "  "
            ]
          },
          "metadata": {},
          "execution_count": 11
        }
      ]
    },
    {
      "cell_type": "code",
      "source": [
        "print(x)\n",
        "x.columns"
      ],
      "metadata": {
        "id": "u7Q4Cdf2SfW5"
      },
      "execution_count": null,
      "outputs": []
    },
    {
      "cell_type": "markdown",
      "source": [
        "Desicion search tree algorithm"
      ],
      "metadata": {
        "id": "C1y8IuLZhLOb"
      }
    },
    {
      "cell_type": "code",
      "source": [
        "x_train, x_test, y_train, y_test = train_test_split(x,y,test_size=0.4) #40% data for test"
      ],
      "metadata": {
        "id": "U2RvuRQh9R5P"
      },
      "execution_count": null,
      "outputs": []
    },
    {
      "cell_type": "code",
      "source": [
        "dt = tree.DecisionTreeClassifier(max_leaf_nodes = 15)\n",
        "np.mean(cross_val_score(dt, x_train, y_train, cv=10))"
      ],
      "metadata": {
        "colab": {
          "base_uri": "https://localhost:8080/"
        },
        "id": "ITNdTLjR-d_P",
        "outputId": "43f3d438-430c-4853-e16f-c8a11cd414bd"
      },
      "execution_count": null,
      "outputs": [
        {
          "output_type": "execute_result",
          "data": {
            "text/plain": [
              "0.9869797826983909"
            ]
          },
          "metadata": {},
          "execution_count": 14
        }
      ]
    },
    {
      "cell_type": "code",
      "source": [
        "dt.fit(x_train,y_train)"
      ],
      "metadata": {
        "colab": {
          "base_uri": "https://localhost:8080/"
        },
        "id": "DO1qfnfQ98V5",
        "outputId": "e4ace377-7ac8-4c0f-9582-5b95ad1a3963"
      },
      "execution_count": null,
      "outputs": [
        {
          "output_type": "execute_result",
          "data": {
            "text/plain": [
              "DecisionTreeClassifier(max_leaf_nodes=15)"
            ]
          },
          "metadata": {},
          "execution_count": 15
        }
      ]
    },
    {
      "cell_type": "code",
      "source": [
        "tree.plot_tree(dt, feature_names=x.columns)"
      ],
      "metadata": {
        "colab": {
          "base_uri": "https://localhost:8080/",
          "height": 751
        },
        "id": "MS2K0tsXVLV5",
        "outputId": "29ccff1e-9246-4996-cefa-beb625b1229a"
      },
      "execution_count": null,
      "outputs": [
        {
          "output_type": "execute_result",
          "data": {
            "text/plain": [
              "[Text(0.45, 0.9285714285714286, 'home_team_score <= 1.5\\ngini = 0.631\\nsamples = 6606\\nvalue = [1490, 1921, 3195]'),\n",
              " Text(0.3, 0.7857142857142857, 'away_team_score <= 1.5\\ngini = 0.638\\nsamples = 3834\\nvalue = [1235, 1758, 841]'),\n",
              " Text(0.25, 0.6428571428571429, 'away_team_score <= 0.5\\ngini = 0.636\\nsamples = 2658\\nvalue = [1235, 582, 841]'),\n",
              " Text(0.15, 0.5, 'home_team_score <= 0.5\\ngini = 0.498\\nsamples = 1413\\nvalue = [568, 21, 824]'),\n",
              " Text(0.1, 0.35714285714285715, 'home_team_fifa_rank <= 1.5\\ngini = 0.114\\nsamples = 604\\nvalue = [568, 21, 15]'),\n",
              " Text(0.05, 0.21428571428571427, 'gini = 0.5\\nsamples = 2\\nvalue = [0, 1, 1]'),\n",
              " Text(0.15, 0.21428571428571427, 'gini = 0.108\\nsamples = 602\\nvalue = [568, 20, 14]'),\n",
              " Text(0.2, 0.35714285714285715, 'gini = 0.0\\nsamples = 809\\nvalue = [0, 0, 809]'),\n",
              " Text(0.35, 0.5, 'home_team_score <= 0.5\\ngini = 0.51\\nsamples = 1245\\nvalue = [667, 561, 17]'),\n",
              " Text(0.3, 0.35714285714285715, 'gini = 0.004\\nsamples = 545\\nvalue = [0, 544, 1]'),\n",
              " Text(0.4, 0.35714285714285715, 'gini = 0.091\\nsamples = 700\\nvalue = [667, 17, 16]'),\n",
              " Text(0.35, 0.6428571428571429, 'gini = 0.0\\nsamples = 1176\\nvalue = [0, 1176, 0]'),\n",
              " Text(0.6, 0.7857142857142857, 'away_team_score <= 1.5\\ngini = 0.267\\nsamples = 2772\\nvalue = [255, 163, 2354]'),\n",
              " Text(0.55, 0.6428571428571429, 'gini = 0.001\\nsamples = 2154\\nvalue = [0, 1, 2153]'),\n",
              " Text(0.65, 0.6428571428571429, 'home_team_score <= 2.5\\ngini = 0.655\\nsamples = 618\\nvalue = [255, 162, 201]'),\n",
              " Text(0.55, 0.5, 'away_team_score <= 2.5\\ngini = 0.497\\nsamples = 372\\nvalue = [221, 144, 7]'),\n",
              " Text(0.5, 0.35714285714285715, 'new_away_team <= 209.5\\ngini = 0.084\\nsamples = 231\\nvalue = [221, 3, 7]'),\n",
              " Text(0.45, 0.21428571428571427, 'gini = 0.06\\nsamples = 227\\nvalue = [220, 2, 5]'),\n",
              " Text(0.55, 0.21428571428571427, 'gini = 0.625\\nsamples = 4\\nvalue = [1, 1, 2]'),\n",
              " Text(0.6, 0.35714285714285715, 'gini = 0.0\\nsamples = 141\\nvalue = [0, 141, 0]'),\n",
              " Text(0.75, 0.5, 'away_team_score <= 2.5\\ngini = 0.354\\nsamples = 246\\nvalue = [34, 18, 194]'),\n",
              " Text(0.7, 0.35714285714285715, 'gini = 0.0\\nsamples = 169\\nvalue = [0, 0, 169]'),\n",
              " Text(0.8, 0.35714285714285715, 'home_team_score <= 3.5\\ngini = 0.645\\nsamples = 77\\nvalue = [34, 18, 25]'),\n",
              " Text(0.7, 0.21428571428571427, 'away_team_score <= 3.5\\ngini = 0.504\\nsamples = 51\\nvalue = [31, 18, 2]'),\n",
              " Text(0.65, 0.07142857142857142, 'gini = 0.209\\nsamples = 35\\nvalue = [31, 2, 2]'),\n",
              " Text(0.75, 0.07142857142857142, 'gini = 0.0\\nsamples = 16\\nvalue = [0, 16, 0]'),\n",
              " Text(0.9, 0.21428571428571427, 'away_team_score <= 3.5\\ngini = 0.204\\nsamples = 26\\nvalue = [3, 0, 23]'),\n",
              " Text(0.85, 0.07142857142857142, 'gini = 0.0\\nsamples = 23\\nvalue = [0, 0, 23]'),\n",
              " Text(0.95, 0.07142857142857142, 'gini = 0.0\\nsamples = 3\\nvalue = [3, 0, 0]')]"
            ]
          },
          "metadata": {},
          "execution_count": 16
        },
        {
          "output_type": "display_data",
          "data": {
            "text/plain": [
              "<Figure size 432x288 with 1 Axes>"
            ],
            "image/png": "[encoded data removed]"
          },
          "metadata": {
            "needs_background": "light"
          }
        }
      ]
    },
    {
      "cell_type": "code",
      "source": [
        "import graphviz \n",
        "dot_data = tree.export_graphviz(dt, out_file=None) \n",
        "graph = graphviz.Source(dot_data) \n",
        "graph.render(\"search_tree\") "
      ],
      "metadata": {
        "colab": {
          "base_uri": "https://localhost:8080/",
          "height": 35
        },
        "id": "K5vORExjVe-s",
        "outputId": "1ad0f4f9-0799-4ce8-c4b9-e50e2d8548e9"
      },
      "execution_count": null,
      "outputs": [
        {
          "output_type": "execute_result",
          "data": {
            "text/plain": [
              "'search_tree.pdf'"
            ],
            "application/vnd.google.colaboratory.intrinsic+json": {
              "type": "string"
            }
          },
          "metadata": {},
          "execution_count": 17
        }
      ]
    },
    {
      "cell_type": "code",
      "source": [
        "y_dtpred = dt.predict(x_test)"
      ],
      "metadata": {
        "id": "fnEeXVmZr2Yv"
      },
      "execution_count": null,
      "outputs": []
    },
    {
      "cell_type": "markdown",
      "source": [
        "Testing single value predictions between top ranked teams"
      ],
      "metadata": {
        "id": "jJm2XXMzliNH"
      }
    },
    {
      "cell_type": "code",
      "source": [
        "y_prediction = dt.predict([[27.,19.,1.,2.,0.,0.],[19.,27.,2.,1.,0.,0.]]) #brazil vs belgium & belgium vs brazil 0-0 (brazil wins)\n",
        "print(y_prediction)\n",
        "y_prediction = dt.predict([[8.,27.,4.,1.,0.,0.],[27.,8.,1.,4.,0.,0.]])#argentina vs brazil & brazil vs argentina 0-0 (brazil wins)\n",
        "print(y_prediction)\n",
        "y_prediction = dt.predict([[71.,27.,3.,1.,0.,0.],[27.,71.,1.,3.,0.,0.]])#france vs brazil & brazil vs france 0-0 (brazil wins)\n",
        "print(y_prediction)\n",
        "y_prediction = dt.predict([[71.,27.,3.,1.,0.,0.],[27.,71.,1.,3.,0.,0.]])#france vs brazil & brazil vs france 0-0 (brazil wins)\n",
        "print(y_prediction)\n",
        "y_prediction = dt.predict([[75.,27.,12.,1.,0.,0.],[27.,75.,1.,12.,0.,0.]])#germany vs brazil & brazil vs germany 0-0 (brazil wins)\n",
        "print(y_prediction)\n",
        "y_prediction = dt.predict([[71.,19.,3.,2.,0.,0.],[19.,71.,2.,3.,0.,0.]]) #france vs belgium & belgium vs france 0-0 (tie)\n",
        "print(y_prediction)\n",
        "y_prediction = dt.predict([[8.,19.,4.,2.,0.,0.],[19.,8.,2.,4.,0.,0.]]) #argentina vs belgium & belgium vs argentina 0-0 (tie)\n",
        "print(y_prediction)\n",
        "y_prediction = dt.predict([[75.,19.,12.,2.,0.,0.],[19.,75.,2.,12.,0.,0.]]) #germany vs belgium & belgium vs germany 0-0 (tie)\n",
        "print(y_prediction)\n",
        "y_prediction = dt.predict([[71.,8.,3.,4.,0.,0.],[8.,71.,4.,3.,0.,0.]])#france vs argentina & argentina vs france 0-0 (tie)\n",
        "print(y_prediction)\n",
        "y_prediction = dt.predict([[71.,75.,3.,12.,0.,0.],[75.,71.,12.,3.,0.,0.]])#france vs germany & germany vs france 0-0 (tie)\n",
        "print(y_prediction)\n",
        "y_prediction = dt.predict([[8.,75.,4.,12.,0.,0.],[75.,8.,12.,4.,0.,0.]])#argentina vs germany & germany vs argentina 0-0 (tie)\n",
        "print(y_prediction)"
      ],
      "metadata": {
        "colab": {
          "base_uri": "https://localhost:8080/"
        },
        "id": "iukGC8Ishng4",
        "outputId": "a26ffb60-279e-4aee-fbea-1080cf554499"
      },
      "execution_count": null,
      "outputs": [
        {
          "output_type": "stream",
          "name": "stdout",
          "text": [
            "[0 0]\n",
            "[0 0]\n",
            "[0 0]\n",
            "[0 0]\n",
            "[0 0]\n",
            "[0 0]\n",
            "[0 0]\n",
            "[0 0]\n",
            "[0 0]\n",
            "[0 0]\n",
            "[0 0]\n"
          ]
        },
        {
          "output_type": "stream",
          "name": "stderr",
          "text": [
            "/usr/local/lib/python3.7/dist-packages/sklearn/base.py:451: UserWarning: X does not have valid feature names, but DecisionTreeClassifier was fitted with feature names\n",
            "  \"X does not have valid feature names, but\"\n",
            "/usr/local/lib/python3.7/dist-packages/sklearn/base.py:451: UserWarning: X does not have valid feature names, but DecisionTreeClassifier was fitted with feature names\n",
            "  \"X does not have valid feature names, but\"\n",
            "/usr/local/lib/python3.7/dist-packages/sklearn/base.py:451: UserWarning: X does not have valid feature names, but DecisionTreeClassifier was fitted with feature names\n",
            "  \"X does not have valid feature names, but\"\n",
            "/usr/local/lib/python3.7/dist-packages/sklearn/base.py:451: UserWarning: X does not have valid feature names, but DecisionTreeClassifier was fitted with feature names\n",
            "  \"X does not have valid feature names, but\"\n",
            "/usr/local/lib/python3.7/dist-packages/sklearn/base.py:451: UserWarning: X does not have valid feature names, but DecisionTreeClassifier was fitted with feature names\n",
            "  \"X does not have valid feature names, but\"\n",
            "/usr/local/lib/python3.7/dist-packages/sklearn/base.py:451: UserWarning: X does not have valid feature names, but DecisionTreeClassifier was fitted with feature names\n",
            "  \"X does not have valid feature names, but\"\n",
            "/usr/local/lib/python3.7/dist-packages/sklearn/base.py:451: UserWarning: X does not have valid feature names, but DecisionTreeClassifier was fitted with feature names\n",
            "  \"X does not have valid feature names, but\"\n",
            "/usr/local/lib/python3.7/dist-packages/sklearn/base.py:451: UserWarning: X does not have valid feature names, but DecisionTreeClassifier was fitted with feature names\n",
            "  \"X does not have valid feature names, but\"\n",
            "/usr/local/lib/python3.7/dist-packages/sklearn/base.py:451: UserWarning: X does not have valid feature names, but DecisionTreeClassifier was fitted with feature names\n",
            "  \"X does not have valid feature names, but\"\n",
            "/usr/local/lib/python3.7/dist-packages/sklearn/base.py:451: UserWarning: X does not have valid feature names, but DecisionTreeClassifier was fitted with feature names\n",
            "  \"X does not have valid feature names, but\"\n",
            "/usr/local/lib/python3.7/dist-packages/sklearn/base.py:451: UserWarning: X does not have valid feature names, but DecisionTreeClassifier was fitted with feature names\n",
            "  \"X does not have valid feature names, but\"\n"
          ]
        }
      ]
    },
    {
      "cell_type": "code",
      "source": [
        "print(y_dtpred)"
      ],
      "metadata": {
        "colab": {
          "base_uri": "https://localhost:8080/"
        },
        "id": "5ctDVhVnH9oC",
        "outputId": "518dfebf-c423-4a8e-ffbe-5a9cf8090791"
      },
      "execution_count": null,
      "outputs": [
        {
          "output_type": "stream",
          "name": "stdout",
          "text": [
            "[2 2 0 ... 0 2 2]\n"
          ]
        }
      ]
    },
    {
      "cell_type": "code",
      "source": [
        "y_test"
      ],
      "metadata": {
        "colab": {
          "base_uri": "https://localhost:8080/"
        },
        "id": "yTdG7QqTVOTx",
        "outputId": "98f03bd7-b567-4e07-f5c1-3b5c0f8ccd4e"
      },
      "execution_count": null,
      "outputs": [
        {
          "output_type": "execute_result",
          "data": {
            "text/plain": [
              "6758     2\n",
              "10371    2\n",
              "7727     0\n",
              "1993     2\n",
              "3792     1\n",
              "        ..\n",
              "1305     2\n",
              "3124     0\n",
              "3574     0\n",
              "439      2\n",
              "10869    2\n",
              "Name: new_home_team_result, Length: 4404, dtype: int64"
            ]
          },
          "metadata": {},
          "execution_count": 123
        }
      ]
    },
    {
      "cell_type": "code",
      "source": [
        "dttestacc = accuracy_score(y_test,y_dtpred)\n",
        "print(dttestacc)"
      ],
      "metadata": {
        "colab": {
          "base_uri": "https://localhost:8080/"
        },
        "id": "57tA6BtEsEan",
        "outputId": "947a1672-cdbb-4892-9d4b-84100b82660d"
      },
      "execution_count": null,
      "outputs": [
        {
          "output_type": "stream",
          "name": "stdout",
          "text": [
            "0.9872842870118075\n"
          ]
        }
      ]
    },
    {
      "cell_type": "code",
      "source": [
        "dtcm = confusion_matrix(y_test,y_dtpred)\n",
        "disp = ConfusionMatrixDisplay(confusion_matrix=dtcm)\n",
        "disp.plot()\n",
        "plt.show()"
      ],
      "metadata": {
        "colab": {
          "base_uri": "https://localhost:8080/",
          "height": 279
        },
        "id": "emAVp0NFsERB",
        "outputId": "e593b589-410b-4f13-8cbe-f8eeb1e0f58e"
      },
      "execution_count": null,
      "outputs": [
        {
          "output_type": "display_data",
          "data": {
            "text/plain": [
              "<Figure size 432x288 with 2 Axes>"
            ],
            "image/png": "[encoded data removed]"
          },
          "metadata": {
            "needs_background": "light"
          }
        }
      ]
    },
    {
      "cell_type": "markdown",
      "source": [
        "KNN algorithm"
      ],
      "metadata": {
        "id": "eiT7GFGmj0nP"
      }
    },
    {
      "cell_type": "code",
      "source": [
        "neigh = KNeighborsClassifier(n_neighbors=28)\n",
        "np.mean(cross_val_score(neigh,x_train,y_train, cv=10))"
      ],
      "metadata": {
        "colab": {
          "base_uri": "https://localhost:8080/"
        },
        "id": "gD3mdSZLW1EX",
        "outputId": "7ab01eb7-48d1-4131-efdc-779262f9f17b"
      },
      "execution_count": null,
      "outputs": [
        {
          "output_type": "execute_result",
          "data": {
            "text/plain": [
              "0.5641800761014074"
            ]
          },
          "metadata": {},
          "execution_count": 200
        }
      ]
    },
    {
      "cell_type": "code",
      "source": [
        "neigh.fit(x_train,y_train)"
      ],
      "metadata": {
        "colab": {
          "base_uri": "https://localhost:8080/"
        },
        "id": "xLMh07x0kziO",
        "outputId": "0f001e4e-983c-4d6e-8708-c493aaa8ba83"
      },
      "execution_count": null,
      "outputs": [
        {
          "output_type": "execute_result",
          "data": {
            "text/plain": [
              "KNeighborsClassifier(n_neighbors=28)"
            ]
          },
          "metadata": {},
          "execution_count": 201
        }
      ]
    },
    {
      "cell_type": "code",
      "source": [
        "y_nnpread = neigh.predict(x_test)\n",
        "np.savetxt('y_knn_pred.txt', y_nnpread, fmt = \"%s\")\n",
        "#print(y_nnpread)"
      ],
      "metadata": {
        "id": "sOK9kSOcqkQY"
      },
      "execution_count": null,
      "outputs": []
    },
    {
      "cell_type": "code",
      "source": [
        "nntestac = accuracy_score(y_test,y_nnpread)\n",
        "print(nntestac)"
      ],
      "metadata": {
        "colab": {
          "base_uri": "https://localhost:8080/"
        },
        "id": "GgQZn2ZNqxrf",
        "outputId": "705b221a-095a-4979-b39a-e93bd191df80"
      },
      "execution_count": null,
      "outputs": [
        {
          "output_type": "stream",
          "name": "stdout",
          "text": [
            "0.5533605812897366\n"
          ]
        }
      ]
    },
    {
      "cell_type": "code",
      "source": [
        "nncm = confusion_matrix(y_test,y_nnpread)\n",
        "disp = ConfusionMatrixDisplay(confusion_matrix=nncm)\n",
        "disp.plot()\n",
        "plt.show()"
      ],
      "metadata": {
        "colab": {
          "base_uri": "https://localhost:8080/",
          "height": 279
        },
        "id": "MCwhjsmGrBZx",
        "outputId": "2ba57589-6337-47da-a84b-87eaa6ada209"
      },
      "execution_count": null,
      "outputs": [
        {
          "output_type": "display_data",
          "data": {
            "text/plain": [
              "<Figure size 432x288 with 2 Axes>"
            ],
            "image/png": "[encoded data removed]"
          },
          "metadata": {
            "needs_background": "light"
          }
        }
      ]
    }
  ]
}